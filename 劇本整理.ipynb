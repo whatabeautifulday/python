{
 "cells": [
  {
   "cell_type": "code",
   "execution_count": null,
   "metadata": {},
   "outputs": [],
   "source": [
    "import requests\n",
    "from bs4 import BeautifulSoup\n",
    "import pandas as pd\n",
    "\n",
    "with open('test.html', 'r') as f:\n",
    "    contents = f.read()\n",
    "    soup = BeautifulSoup(contents, 'lxml')\n",
    "    #print(soup.prettify())\n",
    "\n",
    "soup.find_all('table')\n",
    "\n",
    "result = []\n",
    "tables = soup.find_all('table')\n",
    "for table in tables:\n",
    "    A = table.find(\"td\", {\"class\":\"c0\"}).getText().strip()\n",
    "    B = table.find(\"td\", {\"class\":\"c5\"}).getText().strip()\n",
    "    C = table.find(\"td\", {\"class\":\"c6\"}).getText().strip()\n",
    "    D = table.find(\"td\", {\"class\":\"c12\"}).getText().strip()\n",
    "    df = pd.DataFrame(result, columns=[\"場\", \"光&景別\", \"演員\", \"場景\"])\n",
    "    result.append((A, B, C, D))\n",
    "    \n",
    "print(df)\n",
    "df.to_excel(\"test_excel.xlsx\", sheet_name=\"test\", index=False)"
   ]
  }
 ],
 "metadata": {
  "kernelspec": {
   "display_name": "Python 3",
   "language": "python",
   "name": "python3"
  },
  "language_info": {
   "codemirror_mode": {
    "name": "ipython",
    "version": 3
   },
   "file_extension": ".py",
   "mimetype": "text/x-python",
   "name": "python",
   "nbconvert_exporter": "python",
   "pygments_lexer": "ipython3",
   "version": "3.8.5"
  }
 },
 "nbformat": 4,
 "nbformat_minor": 4
}
